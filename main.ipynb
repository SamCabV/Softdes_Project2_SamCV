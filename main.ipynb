{
 "cells": [
  {
   "cell_type": "markdown",
   "metadata": {},
   "source": [
    "# Project 2: Data Collection"
   ]
  },
  {
   "cell_type": "code",
   "execution_count": 6,
   "metadata": {},
   "outputs": [
    {
     "ename": "ModuleNotFoundError",
     "evalue": "No module named 'grammar_check'",
     "output_type": "error",
     "traceback": [
      "\u001b[0;31m---------------------------------------------------------------------------\u001b[0m",
      "\u001b[0;31mModuleNotFoundError\u001b[0m                       Traceback (most recent call last)",
      "\u001b[0;32m<ipython-input-6-7a21ca5823b5>\u001b[0m in \u001b[0;36m<module>\u001b[0;34m\u001b[0m\n\u001b[1;32m      1\u001b[0m \u001b[0;32mfrom\u001b[0m \u001b[0mbs4\u001b[0m \u001b[0;32mimport\u001b[0m \u001b[0mBeautifulSoup\u001b[0m\u001b[0;34m\u001b[0m\u001b[0;34m\u001b[0m\u001b[0m\n\u001b[1;32m      2\u001b[0m \u001b[0;32mimport\u001b[0m \u001b[0mrequests\u001b[0m\u001b[0;34m\u001b[0m\u001b[0;34m\u001b[0m\u001b[0m\n\u001b[0;32m----> 3\u001b[0;31m \u001b[0;32mimport\u001b[0m \u001b[0mgrammar_check\u001b[0m\u001b[0;34m\u001b[0m\u001b[0;34m\u001b[0m\u001b[0m\n\u001b[0m",
      "\u001b[0;31mModuleNotFoundError\u001b[0m: No module named 'grammar_check'"
     ]
    }
   ],
   "source": [
    "from bs4 import BeautifulSoup\n",
    "import requests\n",
    "import grammar_check"
   ]
  },
  {
   "cell_type": "code",
   "execution_count": 2,
   "metadata": {},
   "outputs": [],
   "source": [
    "links = []\n",
    "poem_links = []\n",
    "soup = []\n",
    "for k in range(20):\n",
    "    r = requests.get( f\"https://www.poemhunter.com/p/m/l.asp?a=0&l=top500&order=title&p={k}\")\n",
    "    src = r.content\n",
    "    soup.append(BeautifulSoup(src, 'html.parser'))\n",
    "for soups in soup:\n",
    "    for link in soups.find_all('a'):\n",
    "            if link != None:\n",
    "                links.append(link.get('href'))\n",
    "    links = [j for j in links if j] \n",
    "    \n",
    "for i in range(len(links)):\n",
    "    if '/poem/' in links[i]:\n",
    "        poem_links.append(\"http://poemhunter.com\"+ links[i]+\"?\")\n",
    "#print(poem_links)\n",
    "#text.get_text()"
   ]
  },
  {
   "cell_type": "code",
   "execution_count": 3,
   "metadata": {},
   "outputs": [],
   "source": [
    "# Template\n",
    "poem_txt = []\n",
    "for links in poem_links:\n",
    "    current_poem_link = requests.get(links)\n",
    "    poem_stuff = current_poem_link.content\n",
    "    soup = BeautifulSoup(poem_stuff, 'html.parser')\n",
    "    text = soup.find(\"p\")\n",
    "    poem_txt.append(text.get_text())\n"
   ]
  },
  {
   "cell_type": "code",
   "execution_count": 4,
   "metadata": {},
   "outputs": [
    {
     "name": "stdout",
     "output_type": "stream",
     "text": [
      "\r\n",
      "                        You may write me down in historyWith your bitter, twisted lies,You may tread me in the very dirtBut still, like dust, I'll rise.Does my sassiness upset you? Why are you beset with gloom? 'Cause I walk like I've got oil wellsPumping in my living room.Just like moons and like suns,With the certainty of tides,Just like hopes springing high,Still I'll rise.Did you want to see me broken? Bowed head and lowered eyes? Shoulders falling down like teardrops.Weakened by my soulful cries.Does my haughtiness offend you? Don't you take it awful hard'Cause I laugh like I've got gold minesDiggin' in my own back yard.You may shoot me with your words,You may cut me with your eyes,You may kill me with your hatefulness,But still, like air, I'll rise.Does my sexiness upset you? Does it come as a surpriseThat I dance like I've got diamondsAt the meeting of my thighs? Out of the huts of history's shameI riseUp from a past that's rooted in painI riseI'm a black ocean, leaping and wide,Welling and swelling I bear in the tide.Leaving behind nights of terror and fearI riseInto a daybreak that's wondrously clearI riseBringing the gifts that my ancestors gave,I am the dream and the hope of the slave.I riseI riseI rise. \r\n",
      "                        \n",
      "\n"
     ]
    }
   ],
   "source": [
    "print(poem_txt[1])"
   ]
  },
  {
   "cell_type": "code",
   "execution_count": 5,
   "metadata": {},
   "outputs": [],
   "source": [
    "for poems in poem_txt:\n",
    "    f= open(\"allpoems.txt\",\"a\")\n",
    "    f.write(poems)\n",
    "        "
   ]
  }
 ],
 "metadata": {
  "kernelspec": {
   "display_name": "Python 3",
   "language": "python",
   "name": "python3"
  },
  "language_info": {
   "codemirror_mode": {
    "name": "ipython",
    "version": 3
   },
   "file_extension": ".py",
   "mimetype": "text/x-python",
   "name": "python",
   "nbconvert_exporter": "python",
   "pygments_lexer": "ipython3",
   "version": "3.8.3"
  }
 },
 "nbformat": 4,
 "nbformat_minor": 4
}
